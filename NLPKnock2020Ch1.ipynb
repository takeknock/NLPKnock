{
  "nbformat": 4,
  "nbformat_minor": 0,
  "metadata": {
    "colab": {
      "name": "NLPKnock2020Ch1.ipynb",
      "provenance": [],
      "collapsed_sections": [],
      "authorship_tag": "ABX9TyO6rIVHsy9RUiTQCLHXIxwr"
    },
    "kernelspec": {
      "name": "python3",
      "display_name": "Python 3"
    }
  },
  "cells": [
    {
      "cell_type": "markdown",
      "metadata": {
        "id": "vugIF76IkU32",
        "colab_type": "text"
      },
      "source": [
        "https://nlp100.github.io/ja/ch01.html\n",
        "\n"
      ]
    },
    {
      "cell_type": "code",
      "metadata": {
        "id": "Zdp1GxIckM-d",
        "colab_type": "code",
        "colab": {
          "base_uri": "https://localhost:8080/",
          "height": 35
        },
        "outputId": "e0028443-e13f-4a64-ff25-899255ee0524"
      },
      "source": [
        "s = \"stressed\"\n",
        "revs_list = list(reversed(s))\n",
        "ans0 = ''.join(revs_list)\n",
        "ans0"
      ],
      "execution_count": 2,
      "outputs": [
        {
          "output_type": "execute_result",
          "data": {
            "text/plain": [
              "'desserts'"
            ]
          },
          "metadata": {
            "tags": []
          },
          "execution_count": 2
        }
      ]
    },
    {
      "cell_type": "code",
      "metadata": {
        "id": "vw2aTmbcl8d9",
        "colab_type": "code",
        "colab": {
          "base_uri": "https://localhost:8080/",
          "height": 35
        },
        "outputId": "3b080160-ae6a-42a2-b958-3c4fb92d2014"
      },
      "source": [
        "s = \"パタトクカシーー\"\n",
        "s_extract = [s[0], s[2], s[4], s[6]]\n",
        "ans1 = ''.join(s_extract)\n",
        "ans1"
      ],
      "execution_count": 8,
      "outputs": [
        {
          "output_type": "execute_result",
          "data": {
            "text/plain": [
              "'パトカー'"
            ]
          },
          "metadata": {
            "tags": []
          },
          "execution_count": 8
        }
      ]
    },
    {
      "cell_type": "code",
      "metadata": {
        "id": "gpoBQ6kfmaBC",
        "colab_type": "code",
        "colab": {
          "base_uri": "https://localhost:8080/",
          "height": 35
        },
        "outputId": "98f61a65-c83f-4011-bc14-6ebb16b5264c"
      },
      "source": [
        "patrolcar = \"パトカー\"\n",
        "taxi = \"タクシー\"\n",
        "s = []\n",
        "for i in range(len(taxi)):\n",
        "  s += patrolcar[i]\n",
        "  s += taxi[i]\n",
        "ans2 = ''.join(s)\n",
        "ans2\n",
        "  "
      ],
      "execution_count": 9,
      "outputs": [
        {
          "output_type": "execute_result",
          "data": {
            "text/plain": [
              "'パタトクカシーー'"
            ]
          },
          "metadata": {
            "tags": []
          },
          "execution_count": 9
        }
      ]
    },
    {
      "cell_type": "code",
      "metadata": {
        "id": "Mu2XvqJvnHUS",
        "colab_type": "code",
        "colab": {
          "base_uri": "https://localhost:8080/",
          "height": 35
        },
        "outputId": "f1c42619-8f41-4902-d3de-ca2de4a4d85f"
      },
      "source": [
        "s = \"Now I need a drink, alcoholic of course, after the heavy lectures involving quantum mechanics.\"\n",
        "s_list = s.split()\n",
        "s_stripped = []\n",
        "for e in s_list:\n",
        "  s_stripped.append(e.strip(',.'))\n",
        "s_len = []\n",
        "for e in s_stripped:\n",
        "  s_len.append(len(e))\n",
        "ans3 = s_len\n",
        "ans3"
      ],
      "execution_count": 25,
      "outputs": [
        {
          "output_type": "execute_result",
          "data": {
            "text/plain": [
              "[3, 1, 4, 1, 5, 9, 2, 6, 5, 3, 5, 8, 9, 7, 9]"
            ]
          },
          "metadata": {
            "tags": []
          },
          "execution_count": 25
        }
      ]
    },
    {
      "cell_type": "code",
      "metadata": {
        "id": "BNIJFft6oiue",
        "colab_type": "code",
        "colab": {
          "base_uri": "https://localhost:8080/",
          "height": 373
        },
        "outputId": "7320b130-9751-445a-ad55-f8191a721332"
      },
      "source": [
        "s = \"Hi He Lied Because Boron Could Not Oxidize Fluorine. New Nations Might Also Sign Peace Security Clause. Arthur King Can.\"\n",
        "s_list = s.split()\n",
        "s_stripped = []\n",
        "for e in s_list:\n",
        "  s_stripped.append(e.strip(',.'))\n",
        "target = [1, 5, 6, 7, 8, 9, 15, 16, 19]\n",
        "target = list(map(lambda x : x - 1, target))\n",
        "\n",
        "d = {}\n",
        "for i in range(len(s_stripped)):\n",
        "  if (i in target):\n",
        "    d[s_stripped[i][0]] = i + 1\n",
        "    continue\n",
        "  d[s_stripped[i][0:2]] = i + 1\n",
        "d\n",
        "  \n"
      ],
      "execution_count": 33,
      "outputs": [
        {
          "output_type": "execute_result",
          "data": {
            "text/plain": [
              "{'Al': 13,\n",
              " 'Ar': 18,\n",
              " 'B': 5,\n",
              " 'Be': 4,\n",
              " 'C': 6,\n",
              " 'Ca': 20,\n",
              " 'Cl': 17,\n",
              " 'F': 9,\n",
              " 'H': 1,\n",
              " 'He': 2,\n",
              " 'K': 19,\n",
              " 'Li': 3,\n",
              " 'Mi': 12,\n",
              " 'N': 7,\n",
              " 'Na': 11,\n",
              " 'Ne': 10,\n",
              " 'O': 8,\n",
              " 'P': 15,\n",
              " 'S': 16,\n",
              " 'Si': 14}"
            ]
          },
          "metadata": {
            "tags": []
          },
          "execution_count": 33
        }
      ]
    },
    {
      "cell_type": "code",
      "metadata": {
        "id": "eGlqyKUisolw",
        "colab_type": "code",
        "colab": {
          "base_uri": "https://localhost:8080/",
          "height": 88
        },
        "outputId": "28436b0f-86aa-4ba1-f875-6c57567cf818"
      },
      "source": [
        "def n_gram(s : str, n):\n",
        "  l = []\n",
        "  for i in range(len(s) - n + 1):\n",
        "    l.append(s[i:i+n])\n",
        "  return l\n",
        "\n",
        "s = \"I am an NLPer\"\n",
        "str_bigram = n_gram(s, 2)\n",
        "print(\"string bigram\")\n",
        "print(str_bigram)\n",
        "\n",
        "s_list = s.split()\n",
        "word_bigram = n_gram(s_list, 2)\n",
        "refined_word_bigram = []\n",
        "for e in word_bigram:\n",
        "  refined_word_bigram.append(''.join(e))\n",
        "print(\"word_bigram\")\n",
        "print(refined_word_bigram)"
      ],
      "execution_count": 43,
      "outputs": [
        {
          "output_type": "stream",
          "text": [
            "string bigram\n",
            "['I ', ' a', 'am', 'm ', ' a', 'an', 'n ', ' N', 'NL', 'LP', 'Pe', 'er']\n",
            "word_bigram\n",
            "['Iam', 'aman', 'anNLPer']\n"
          ],
          "name": "stdout"
        }
      ]
    },
    {
      "cell_type": "code",
      "metadata": {
        "id": "FmCbgLdAvI37",
        "colab_type": "code",
        "colab": {}
      },
      "source": [
        ""
      ],
      "execution_count": 0,
      "outputs": []
    }
  ]
}